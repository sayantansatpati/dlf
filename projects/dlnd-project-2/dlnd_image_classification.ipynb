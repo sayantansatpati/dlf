{
 "cells": [
  {
   "cell_type": "markdown",
   "metadata": {
    "collapsed": true,
    "deletable": true,
    "editable": true
   },
   "source": [
    "# Image Classification\n",
    "In this project, you'll classify images from the [CIFAR-10 dataset](https://www.cs.toronto.edu/~kriz/cifar.html).  The dataset consists of airplanes, dogs, cats, and other objects. You'll preprocess the images, then train a convolutional neural network on all the samples. The images need to be normalized and the labels need to be one-hot encoded.  You'll get to apply what you learned and build a convolutional, max pooling, dropout, and fully connected layers.  At the end, you'll get to see your neural network's predictions on the sample images.\n",
    "## Get the Data\n",
    "Run the following cell to download the [CIFAR-10 dataset for python](https://www.cs.toronto.edu/~kriz/cifar-10-python.tar.gz)."
   ]
  },
  {
   "cell_type": "code",
   "execution_count": 1,
   "metadata": {
    "collapsed": false,
    "deletable": true,
    "editable": true
   },
   "outputs": [
    {
     "name": "stderr",
     "output_type": "stream",
     "text": [
      "CIFAR-10 Dataset: 171MB [02:36, 1.09MB/s]                              \n"
     ]
    },
    {
     "name": "stdout",
     "output_type": "stream",
     "text": [
      "All files found!\n"
     ]
    }
   ],
   "source": [
    "\"\"\"\n",
    "DON'T MODIFY ANYTHING IN THIS CELL THAT IS BELOW THIS LINE\n",
    "\"\"\"\n",
    "from urllib.request import urlretrieve\n",
    "from os.path import isfile, isdir\n",
    "from tqdm import tqdm\n",
    "import problem_unittests as tests\n",
    "import tarfile\n",
    "\n",
    "cifar10_dataset_folder_path = 'cifar-10-batches-py'\n",
    "\n",
    "class DLProgress(tqdm):\n",
    "    last_block = 0\n",
    "\n",
    "    def hook(self, block_num=1, block_size=1, total_size=None):\n",
    "        self.total = total_size\n",
    "        self.update((block_num - self.last_block) * block_size)\n",
    "        self.last_block = block_num\n",
    "\n",
    "if not isfile('cifar-10-python.tar.gz'):\n",
    "    with DLProgress(unit='B', unit_scale=True, miniters=1, desc='CIFAR-10 Dataset') as pbar:\n",
    "        urlretrieve(\n",
    "            'https://www.cs.toronto.edu/~kriz/cifar-10-python.tar.gz',\n",
    "            'cifar-10-python.tar.gz',\n",
    "            pbar.hook)\n",
    "\n",
    "if not isdir(cifar10_dataset_folder_path):\n",
    "    with tarfile.open('cifar-10-python.tar.gz') as tar:\n",
    "        tar.extractall()\n",
    "        tar.close()\n",
    "\n",
    "\n",
    "tests.test_folder_path(cifar10_dataset_folder_path)"
   ]
  },
  {
   "cell_type": "markdown",
   "metadata": {
    "deletable": true,
    "editable": true
   },
   "source": [
    "## Explore the Data\n",
    "The dataset is broken into batches to prevent your machine from running out of memory.  The CIFAR-10 dataset consists of 5 batches, named `data_batch_1`, `data_batch_2`, etc.. Each batch contains the labels and images that are one of the following:\n",
    "* airplane\n",
    "* automobile\n",
    "* bird\n",
    "* cat\n",
    "* deer\n",
    "* dog\n",
    "* frog\n",
    "* horse\n",
    "* ship\n",
    "* truck\n",
    "\n",
    "Understanding a dataset is part of making predictions on the data.  Play around with the code cell below by changing the `batch_id` and `sample_id`. The `batch_id` is the id for a batch (1-5). The `sample_id` is the id for a image and label pair in the batch.\n",
    "\n",
    "Ask yourself \"What are all possible labels?\", \"What is the range of values for the image data?\", \"Are the labels in order or random?\".  Answers to questions like these will help you preprocess the data and end up with better predictions."
   ]
  },
  {
   "cell_type": "code",
   "execution_count": 2,
   "metadata": {
    "collapsed": false,
    "deletable": true,
    "editable": true
   },
   "outputs": [
    {
     "name": "stdout",
     "output_type": "stream",
     "text": [
      "\n",
      "Stats of batch 1:\n",
      "Samples: 10000\n",
      "Label Counts: {0: 1005, 1: 974, 2: 1032, 3: 1016, 4: 999, 5: 937, 6: 1030, 7: 1001, 8: 1025, 9: 981}\n",
      "First 20 Labels: [6, 9, 9, 4, 1, 1, 2, 7, 8, 3, 4, 7, 7, 2, 9, 9, 9, 3, 2, 6]\n",
      "\n",
      "Example of Image 4:\n",
      "Image - Min Value: 0 Max Value: 254\n",
      "Image - Shape: (32, 32, 3)\n",
      "Label - Label Id: 1 Name: automobile\n"
     ]
    },
    {
     "data": {
      "image/png": "[encoded data removed]",
      "text/plain": [
       "<matplotlib.figure.Figure at 0x7f5fbc4e7e10>"
      ]
     },
     "metadata": {
      "image/png": {
       "height": 250,
       "width": 253
      }
     },
     "output_type": "display_data"
    }
   ],
   "source": [
    "%matplotlib inline\n",
    "%config InlineBackend.figure_format = 'retina'\n",
    "\n",
    "import helper\n",
    "import numpy as np\n",
    "\n",
    "# Explore the dataset\n",
    "batch_id = 1\n",
    "sample_id = 4\n",
    "helper.display_stats(cifar10_dataset_folder_path, batch_id, sample_id)"
   ]
  },
  {
   "cell_type": "markdown",
   "metadata": {
    "deletable": true,
    "editable": true
   },
   "source": [
    "## Implement Preprocess Functions\n",
    "### Normalize\n",
    "In the cell below, implement the `normalize` function to take in image data, `x`, and return it as a normalized Numpy array. The values should be in the range of 0 to 1, inclusive.  The return object should be the same shape as `x`."
   ]
  },
  {
   "cell_type": "code",
   "execution_count": 3,
   "metadata": {
    "collapsed": false,
    "deletable": true,
    "editable": true
   },
   "outputs": [
    {
     "name": "stdout",
     "output_type": "stream",
     "text": [
      "Tests Passed\n"
     ]
    }
   ],
   "source": [
    "def normalize(x):\n",
    "    \"\"\"\n",
    "    Normalize a list of sample image data in the range of 0 to 1\n",
    "    : x: List of image data.  The image shape is (32, 32, 3)\n",
    "    : return: Numpy array of normalize data\n",
    "    \"\"\"\n",
    "    # TODO: Implement Function\n",
    "    return x*1.0/255\n",
    "\n",
    "\n",
    "\"\"\"\n",
    "DON'T MODIFY ANYTHING IN THIS CELL THAT IS BELOW THIS LINE\n",
    "\"\"\"\n",
    "tests.test_normalize(normalize)"
   ]
  },
  {
   "cell_type": "markdown",
   "metadata": {
    "deletable": true,
    "editable": true
   },
   "source": [
    "### One-hot encode\n",
    "Just like the previous code cell, you'll be implementing a function for preprocessing.  This time, you'll implement the `one_hot_encode` function. The input, `x`, are a list of labels.  Implement the function to return the list of labels as One-Hot encoded Numpy array.  The possible values for labels are 0 to 9. The one-hot encoding function should return the same encoding for each value between each call to `one_hot_encode`.  Make sure to save the map of encodings outside the function.\n",
    "\n",
    "Hint: Don't reinvent the wheel."
   ]
  },
  {
   "cell_type": "code",
   "execution_count": 4,
   "metadata": {
    "collapsed": false,
    "deletable": true,
    "editable": true
   },
   "outputs": [
    {
     "name": "stdout",
     "output_type": "stream",
     "text": [
      "Tests Passed\n"
     ]
    }
   ],
   "source": [
    "def one_hot_encode(x):\n",
    "    \"\"\"\n",
    "    One hot encode a list of sample labels. Return a one-hot encoded vector for each label.\n",
    "    : x: List of sample Labels\n",
    "    : return: Numpy array of one-hot encoded labels\n",
    "    \"\"\"\n",
    "    # TODO: Implement Function\n",
    "    #print(x)\n",
    "    x_one_hot = np.zeros((len(x), 10))\n",
    "    for i,j in enumerate(x):\n",
    "        x_one_hot[i,j] = 1\n",
    "    #print(x_one_hot[:3])\n",
    "    return x_one_hot\n",
    "\n",
    "\n",
    "\"\"\"\n",
    "DON'T MODIFY ANYTHING IN THIS CELL THAT IS BELOW THIS LINE\n",
    "\"\"\"\n",
    "tests.test_one_hot_encode(one_hot_encode)"
   ]
  },
  {
   "cell_type": "markdown",
   "metadata": {
    "deletable": true,
    "editable": true
   },
   "source": [
    "### Randomize Data\n",
    "As you saw from exploring the data above, the order of the samples are randomized.  It doesn't hurt to randomize it again, but you don't need to for this dataset."
   ]
  },
  {
   "cell_type": "markdown",
   "metadata": {
    "deletable": true,
    "editable": true
   },
   "source": [
    "## Preprocess all the data and save it\n",
    "Running the code cell below will preprocess all the CIFAR-10 data and save it to file. The code below also uses 10% of the training data for validation."
   ]
  },
  {
   "cell_type": "code",
   "execution_count": 5,
   "metadata": {
    "collapsed": false,
    "deletable": true,
    "editable": true
   },
   "outputs": [],
   "source": [
    "\"\"\"\n",
    "DON'T MODIFY ANYTHING IN THIS CELL\n",
    "\"\"\"\n",
    "# Preprocess Training, Validation, and Testing Data\n",
    "helper.preprocess_and_save_data(cifar10_dataset_folder_path, normalize, one_hot_encode)"
   ]
  },
  {
   "cell_type": "markdown",
   "metadata": {
    "deletable": true,
    "editable": true
   },
   "source": [
    "# Check Point\n",
    "This is your first checkpoint.  If you ever decide to come back to this notebook or have to restart the notebook, you can start from here.  The preprocessed data has been saved to disk."
   ]
  },
  {
   "cell_type": "code",
   "execution_count": 6,
   "metadata": {
    "collapsed": true,
    "deletable": true,
    "editable": true
   },
   "outputs": [],
   "source": [
    "\"\"\"\n",
    "DON'T MODIFY ANYTHING IN THIS CELL\n",
    "\"\"\"\n",
    "import pickle\n",
    "import problem_unittests as tests\n",
    "import helper\n",
    "\n",
    "# Load the Preprocessed Validation data\n",
    "valid_features, valid_labels = pickle.load(open('preprocess_validation.p', mode='rb'))"
   ]
  },
  {
   "cell_type": "markdown",
   "metadata": {
    "deletable": true,
    "editable": true
   },
   "source": [
    "## Build the network\n",
    "For the neural network, you'll build each layer into a function.  Most of the code you've seen has been outside of functions. To test your code more thoroughly, we require that you put each layer in a function.  This allows us to give you better feedback and test for simple mistakes using our unittests before you submit your project.\n",
    "\n",
    ">**Note:** If you're finding it hard to dedicate enough time for this course each week, we've provided a small shortcut to this part of the project. In the next couple of problems, you'll have the option to use classes from the [TensorFlow Layers](https://www.tensorflow.org/api_docs/python/tf/layers) or [TensorFlow Layers (contrib)](https://www.tensorflow.org/api_guides/python/contrib.layers) packages to build each layer, except the layers you build in the \"Convolutional and Max Pooling Layer\" section.  TF Layers is similar to Keras's and TFLearn's abstraction to layers, so it's easy to pickup.\n",
    "\n",
    ">However, if you would like to get the most out of this course, try to solve all the problems _without_ using anything from the TF Layers packages. You **can** still use classes from other packages that happen to have the same name as ones you find in TF Layers! For example, instead of using the TF Layers version of the `conv2d` class, [tf.layers.conv2d](https://www.tensorflow.org/api_docs/python/tf/layers/conv2d), you would want to use the TF Neural Network version of `conv2d`, [tf.nn.conv2d](https://www.tensorflow.org/api_docs/python/tf/nn/conv2d). \n",
    "\n",
    "Let's begin!\n",
    "\n",
    "### Input\n",
    "The neural network needs to read the image data, one-hot encoded labels, and dropout keep probability. Implement the following functions\n",
    "* Implement `neural_net_image_input`\n",
    " * Return a [TF Placeholder](https://www.tensorflow.org/api_docs/python/tf/placeholder)\n",
    " * Set the shape using `image_shape` with batch size set to `None`.\n",
    " * Name the TensorFlow placeholder \"x\" using the TensorFlow `name` parameter in the [TF Placeholder](https://www.tensorflow.org/api_docs/python/tf/placeholder).\n",
    "* Implement `neural_net_label_input`\n",
    " * Return a [TF Placeholder](https://www.tensorflow.org/api_docs/python/tf/placeholder)\n",
    " * Set the shape using `n_classes` with batch size set to `None`.\n",
    " * Name the TensorFlow placeholder \"y\" using the TensorFlow `name` parameter in the [TF Placeholder](https://www.tensorflow.org/api_docs/python/tf/placeholder).\n",
    "* Implement `neural_net_keep_prob_input`\n",
    " * Return a [TF Placeholder](https://www.tensorflow.org/api_docs/python/tf/placeholder) for dropout keep probability.\n",
    " * Name the TensorFlow placeholder \"keep_prob\" using the TensorFlow `name` parameter in the [TF Placeholder](https://www.tensorflow.org/api_docs/python/tf/placeholder).\n",
    "\n",
    "These names will be used at the end of the project to load your saved model.\n",
    "\n",
    "Note: `None` for shapes in TensorFlow allow for a dynamic size."
   ]
  },
  {
   "cell_type": "code",
   "execution_count": 7,
   "metadata": {
    "collapsed": false,
    "deletable": true,
    "editable": true
   },
   "outputs": [
    {
     "name": "stdout",
     "output_type": "stream",
     "text": [
      "Image Input Tests Passed.\n",
      "Label Input Tests Passed.\n",
      "Keep Prob Tests Passed.\n"
     ]
    }
   ],
   "source": [
    "import tensorflow as tf\n",
    "\n",
    "def neural_net_image_input(image_shape):\n",
    "    \"\"\"\n",
    "    Return a Tensor for a bach of image input\n",
    "    : image_shape: Shape of the images\n",
    "    : return: Tensor for image input.\n",
    "    \"\"\"\n",
    "    # TODO: Implement Function\n",
    "    #print(image_shape)\n",
    "    s = [None] + [d for d in image_shape]\n",
    "    #print(s)\n",
    "    x = tf.placeholder(tf.float32, s, name='x')\n",
    "    return x\n",
    "\n",
    "\n",
    "def neural_net_label_input(n_classes):\n",
    "    \"\"\"\n",
    "    Return a Tensor for a batch of label input\n",
    "    : n_classes: Number of classes\n",
    "    : return: Tensor for label input.\n",
    "    \"\"\"\n",
    "    # TODO: Implement Function\n",
    "    y = tf.placeholder(tf.float32, [None,n_classes], name='y')\n",
    "    return y\n",
    "\n",
    "\n",
    "def neural_net_keep_prob_input():\n",
    "    \"\"\"\n",
    "    Return a Tensor for keep probability\n",
    "    : return: Tensor for keep probability.\n",
    "    \"\"\"\n",
    "    # TODO: Implement Function\n",
    "    p = tf.placeholder(tf.float32, name='keep_prob')\n",
    "    return p\n",
    "\n",
    "\n",
    "\"\"\"\n",
    "DON'T MODIFY ANYTHING IN THIS CELL THAT IS BELOW THIS LINE\n",
    "\"\"\"\n",
    "tf.reset_default_graph()\n",
    "tests.test_nn_image_inputs(neural_net_image_input)\n",
    "tests.test_nn_label_inputs(neural_net_label_input)\n",
    "tests.test_nn_keep_prob_inputs(neural_net_keep_prob_input)"
   ]
  },
  {
   "cell_type": "markdown",
   "metadata": {
    "deletable": true,
    "editable": true
   },
   "source": [
    "### Convolution and Max Pooling Layer\n",
    "Convolution layers have a lot of success with images. For this code cell, you should implement the function `conv2d_maxpool` to apply convolution then max pooling:\n",
    "* Create the weight and bias using `conv_ksize`, `conv_num_outputs` and the shape of `x_tensor`.\n",
    "* Apply a convolution to `x_tensor` using weight and `conv_strides`.\n",
    " * We recommend you use same padding, but you're welcome to use any padding.\n",
    "* Add bias\n",
    "* Add a nonlinear activation to the convolution.\n",
    "* Apply Max Pooling using `pool_ksize` and `pool_strides`.\n",
    " * We recommend you use same padding, but you're welcome to use any padding.\n",
    "\n",
    "**Note:** You **can't** use [TensorFlow Layers](https://www.tensorflow.org/api_docs/python/tf/layers) or [TensorFlow Layers (contrib)](https://www.tensorflow.org/api_guides/python/contrib.layers) for **this** layer, but you can still use TensorFlow's [Neural Network](https://www.tensorflow.org/api_docs/python/tf/nn) package. You may still use the shortcut option for all the **other** layers."
   ]
  },
  {
   "cell_type": "code",
   "execution_count": 8,
   "metadata": {
    "collapsed": false,
    "deletable": true,
    "editable": true
   },
   "outputs": [
    {
     "name": "stdout",
     "output_type": "stream",
     "text": [
      "[conv2d_maxpool] x_tensor.shape (?, 32, 32, 5)\n",
      "[conv2d_maxpool] conv_ksize: (2, 2)\n",
      "[conv2d_maxpool] conv_num_outputs: 10\n",
      "[conv2d_maxpool] conv_strides: (4, 4)\n",
      "[conv2d_maxpool] w: [2, 2, 5, 10]\n",
      "\n",
      "[conv2d_maxpool] pool_ksize: (2, 2)\n",
      "[conv2d_maxpool] pool_strides: (2, 2) \n",
      "\n",
      "Tests Passed\n"
     ]
    }
   ],
   "source": [
    "def conv2d_maxpool(x_tensor, conv_num_outputs, conv_ksize, conv_strides, pool_ksize, pool_strides):\n",
    "    \"\"\"\n",
    "    Apply convolution then max pooling to x_tensor\n",
    "    :param x_tensor: TensorFlow Tensor\n",
    "    :param conv_num_outputs: Number of outputs for the convolutional layer\n",
    "    :param conv_ksize: kernal size 2-D Tuple for the convolutional layer\n",
    "    :param conv_strides: Stride 2-D Tuple for convolution\n",
    "    :param pool_ksize: kernal size 2-D Tuple for pool\n",
    "    :param pool_strides: Stride 2-D Tuple for pool\n",
    "    : return: A tensor that represents convolution and max pooling of x_tensor\n",
    "    \"\"\"\n",
    "    # TODO: Implement Function\n",
    "    print('[conv2d_maxpool] x_tensor.shape', x_tensor.shape)\n",
    "    print('[conv2d_maxpool] conv_ksize:', conv_ksize) \n",
    "    print('[conv2d_maxpool] conv_num_outputs:', conv_num_outputs)\n",
    "    print('[conv2d_maxpool] conv_strides:', conv_strides)\n",
    "    \n",
    "    w = list(conv_ksize) + [x_tensor.get_shape().as_list()[-1], conv_num_outputs]\n",
    "    print('[conv2d_maxpool] w:', w)\n",
    "    \n",
    "    weights = tf.Variable(tf.truncated_normal(w))\n",
    "    bias = tf.Variable(tf.truncated_normal([conv_num_outputs]))\n",
    "\n",
    "    # Convolution\n",
    "    conv = tf.nn.conv2d(x_tensor, weights, strides=[1] + list(conv_strides) + [1], padding='SAME')\n",
    "    # Bias\n",
    "    conv = tf.nn.bias_add(conv, bias)\n",
    "    # Non Linear\n",
    "    conv = tf.nn.relu(conv)\n",
    "        \n",
    "    # Max Pool\n",
    "    print('\\n[conv2d_maxpool] pool_ksize:', pool_ksize)\n",
    "    print('[conv2d_maxpool] pool_strides:', pool_strides, '\\n')\n",
    "    conv = tf.nn.max_pool(conv,\n",
    "        ksize=[1] + list(pool_ksize) + [1],\n",
    "        strides=[1] + list(pool_strides) + [1],\n",
    "        padding='SAME')\n",
    "    \n",
    "    return conv\n",
    "\n",
    "\n",
    "\"\"\"\n",
    "DON'T MODIFY ANYTHING IN THIS CELL THAT IS BELOW THIS LINE\n",
    "\"\"\"\n",
    "tests.test_con_pool(conv2d_maxpool)"
   ]
  },
  {
   "cell_type": "markdown",
   "metadata": {
    "deletable": true,
    "editable": true
   },
   "source": [
    "### Flatten Layer\n",
    "Implement the `flatten` function to change the dimension of `x_tensor` from a 4-D tensor to a 2-D tensor.  The output should be the shape (*Batch Size*, *Flattened Image Size*). Shortcut option: you can use classes from the [TensorFlow Layers](https://www.tensorflow.org/api_docs/python/tf/layers) or [TensorFlow Layers (contrib)](https://www.tensorflow.org/api_guides/python/contrib.layers) packages for this layer. For more of a challenge, only use other TensorFlow packages."
   ]
  },
  {
   "cell_type": "code",
   "execution_count": 9,
   "metadata": {
    "collapsed": false,
    "deletable": true,
    "editable": true
   },
   "outputs": [
    {
     "name": "stdout",
     "output_type": "stream",
     "text": [
      "[flatten] x_tensor shape: [None, 10, 30, 6]\n",
      "Tests Passed\n"
     ]
    }
   ],
   "source": [
    "def flatten(x_tensor):\n",
    "    \"\"\"\n",
    "    Flatten x_tensor to (Batch Size, Flattened Image Size)\n",
    "    : x_tensor: A tensor of size (Batch Size, ...), where ... are the image dimensions.\n",
    "    : return: A tensor of size (Batch Size, Flattened Image Size).\n",
    "    \"\"\"\n",
    "    # TODO: Implement Function\n",
    "    s = x_tensor.get_shape().as_list()\n",
    "    print('[flatten] x_tensor shape:', s)\n",
    "    return tf.reshape(x_tensor, [-1, s[1]*s[2]*s[3]])\n",
    "\n",
    "\n",
    "\"\"\"\n",
    "DON'T MODIFY ANYTHING IN THIS CELL THAT IS BELOW THIS LINE\n",
    "\"\"\"\n",
    "tests.test_flatten(flatten)"
   ]
  },
  {
   "cell_type": "markdown",
   "metadata": {
    "deletable": true,
    "editable": true
   },
   "source": [
    "### Fully-Connected Layer\n",
    "Implement the `fully_conn` function to apply a fully connected layer to `x_tensor` with the shape (*Batch Size*, *num_outputs*). Shortcut option: you can use classes from the [TensorFlow Layers](https://www.tensorflow.org/api_docs/python/tf/layers) or [TensorFlow Layers (contrib)](https://www.tensorflow.org/api_guides/python/contrib.layers) packages for this layer. For more of a challenge, only use other TensorFlow packages."
   ]
  },
  {
   "cell_type": "code",
   "execution_count": 10,
   "metadata": {
    "collapsed": false,
    "deletable": true,
    "editable": true
   },
   "outputs": [
    {
     "name": "stdout",
     "output_type": "stream",
     "text": [
      "[fully_conn] x_tensor shape: (?, 128)\n",
      "[fully_conn] num_outputs: 40\n",
      "[fully_conn] w: [128, 40] \n",
      "\n",
      "Tests Passed\n"
     ]
    }
   ],
   "source": [
    "def fully_conn(x_tensor, num_outputs):\n",
    "    \"\"\"\n",
    "    Apply a fully connected layer to x_tensor using weight and bias\n",
    "    : x_tensor: A 2-D tensor where the first dimension is batch size.\n",
    "    : num_outputs: The number of output that the new tensor should be.\n",
    "    : return: A 2-D tensor where the second dimension is num_outputs.\n",
    "    \"\"\"\n",
    "    # TODO: Implement Function\n",
    "    print('[fully_conn] x_tensor shape:', x_tensor.shape)\n",
    "    print('[fully_conn] num_outputs:', num_outputs)\n",
    "    \n",
    "    w = [x_tensor.get_shape().as_list()[1],num_outputs]\n",
    "    print('[fully_conn] w:',w,'\\n')\n",
    "    weights = tf.Variable(tf.truncated_normal(w))\n",
    "    bias = tf.Variable(tf.truncated_normal([num_outputs]))\n",
    "    \n",
    "    fc = tf.add(tf.matmul(x_tensor, weights), bias)\n",
    "    fc = tf.nn.relu(fc)\n",
    "    return fc\n",
    "\n",
    "\n",
    "\"\"\"\n",
    "DON'T MODIFY ANYTHING IN THIS CELL THAT IS BELOW THIS LINE\n",
    "\"\"\"\n",
    "tests.test_fully_conn(fully_conn)"
   ]
  },
  {
   "cell_type": "markdown",
   "metadata": {
    "deletable": true,
    "editable": true
   },
   "source": [
    "### Output Layer\n",
    "Implement the `output` function to apply a fully connected layer to `x_tensor` with the shape (*Batch Size*, *num_outputs*). Shortcut option: you can use classes from the [TensorFlow Layers](https://www.tensorflow.org/api_docs/python/tf/layers) or [TensorFlow Layers (contrib)](https://www.tensorflow.org/api_guides/python/contrib.layers) packages for this layer. For more of a challenge, only use other TensorFlow packages.\n",
    "\n",
    "**Note:** Activation, softmax, or cross entropy should **not** be applied to this."
   ]
  },
  {
   "cell_type": "code",
   "execution_count": 11,
   "metadata": {
    "collapsed": false,
    "deletable": true,
    "editable": true
   },
   "outputs": [
    {
     "name": "stdout",
     "output_type": "stream",
     "text": [
      "[output] x_tensor shape: (?, 128)\n",
      "[output] num_outputs: 40\n",
      "[output] w: [128, 40] \n",
      "\n",
      "Tests Passed\n"
     ]
    }
   ],
   "source": [
    "def output(x_tensor, num_outputs):\n",
    "    \"\"\"\n",
    "    Apply a output layer to x_tensor using weight and bias\n",
    "    : x_tensor: A 2-D tensor where the first dimension is batch size.\n",
    "    : num_outputs: The number of output that the new tensor should be.\n",
    "    : return: A 2-D tensor where the second dimension is num_outputs.\n",
    "    \"\"\"\n",
    "    # TODO: Implement Function\n",
    "    print('[output] x_tensor shape:', x_tensor.shape)\n",
    "    print('[output] num_outputs:', num_outputs)\n",
    "    \n",
    "    w = [x_tensor.get_shape().as_list()[1],num_outputs]\n",
    "    print('[output] w:',w,'\\n')\n",
    "    weights = tf.Variable(tf.truncated_normal(w))\n",
    "    bias = tf.Variable(tf.truncated_normal([num_outputs]))\n",
    "    \n",
    "    out = tf.add(tf.matmul(x_tensor, weights), bias)\n",
    "    return out\n",
    "\n",
    "\n",
    "\"\"\"\n",
    "DON'T MODIFY ANYTHING IN THIS CELL THAT IS BELOW THIS LINE\n",
    "\"\"\"\n",
    "tests.test_output(output)"
   ]
  },
  {
   "cell_type": "markdown",
   "metadata": {
    "deletable": true,
    "editable": true
   },
   "source": [
    "### Create Convolutional Model\n",
    "Implement the function `conv_net` to create a convolutional neural network model. The function takes in a batch of images, `x`, and outputs logits.  Use the layers you created above to create this model:\n",
    "\n",
    "* Apply 1, 2, or 3 Convolution and Max Pool layers\n",
    "* Apply a Flatten Layer\n",
    "* Apply 1, 2, or 3 Fully Connected Layers\n",
    "* Apply an Output Layer\n",
    "* Return the output\n",
    "* Apply [TensorFlow's Dropout](https://www.tensorflow.org/api_docs/python/tf/nn/dropout) to one or more layers in the model using `keep_prob`. "
   ]
  },
  {
   "cell_type": "code",
   "execution_count": 45,
   "metadata": {
    "collapsed": false,
    "deletable": true,
    "editable": true
   },
   "outputs": [
    {
     "name": "stdout",
     "output_type": "stream",
     "text": [
      "[conv2d_maxpool] x_tensor.shape (?, 32, 32, 3)\n",
      "[conv2d_maxpool] conv_ksize: (3, 3)\n",
      "[conv2d_maxpool] conv_num_outputs: 32\n",
      "[conv2d_maxpool] conv_strides: (1, 1)\n",
      "[conv2d_maxpool] w: [3, 3, 3, 32]\n",
      "\n",
      "[conv2d_maxpool] pool_ksize: (2, 2)\n",
      "[conv2d_maxpool] pool_strides: (2, 2) \n",
      "\n",
      "[conv2d_maxpool] x_tensor.shape (?, 16, 16, 32)\n",
      "[conv2d_maxpool] conv_ksize: (3, 3)\n",
      "[conv2d_maxpool] conv_num_outputs: 64\n",
      "[conv2d_maxpool] conv_strides: (1, 1)\n",
      "[conv2d_maxpool] w: [3, 3, 32, 64]\n",
      "\n",
      "[conv2d_maxpool] pool_ksize: (2, 2)\n",
      "[conv2d_maxpool] pool_strides: (2, 2) \n",
      "\n",
      "[flatten] x_tensor shape: [None, 8, 8, 64]\n",
      "[fully_conn] x_tensor shape: (?, 4096)\n",
      "[fully_conn] num_outputs: 1024\n",
      "[fully_conn] w: [4096, 1024] \n",
      "\n",
      "[fully_conn] x_tensor shape: (?, 1024)\n",
      "[fully_conn] num_outputs: 512\n",
      "[fully_conn] w: [1024, 512] \n",
      "\n",
      "[output] x_tensor shape: (?, 512)\n",
      "[output] num_outputs: 10\n",
      "[output] w: [512, 10] \n",
      "\n",
      "[conv2d_maxpool] x_tensor.shape (?, 32, 32, 3)\n",
      "[conv2d_maxpool] conv_ksize: (3, 3)\n",
      "[conv2d_maxpool] conv_num_outputs: 32\n",
      "[conv2d_maxpool] conv_strides: (1, 1)\n",
      "[conv2d_maxpool] w: [3, 3, 3, 32]\n",
      "\n",
      "[conv2d_maxpool] pool_ksize: (2, 2)\n",
      "[conv2d_maxpool] pool_strides: (2, 2) \n",
      "\n",
      "[conv2d_maxpool] x_tensor.shape (?, 16, 16, 32)\n",
      "[conv2d_maxpool] conv_ksize: (3, 3)\n",
      "[conv2d_maxpool] conv_num_outputs: 64\n",
      "[conv2d_maxpool] conv_strides: (1, 1)\n",
      "[conv2d_maxpool] w: [3, 3, 32, 64]\n",
      "\n",
      "[conv2d_maxpool] pool_ksize: (2, 2)\n",
      "[conv2d_maxpool] pool_strides: (2, 2) \n",
      "\n",
      "[flatten] x_tensor shape: [None, 8, 8, 64]\n",
      "[fully_conn] x_tensor shape: (?, 4096)\n",
      "[fully_conn] num_outputs: 1024\n",
      "[fully_conn] w: [4096, 1024] \n",
      "\n",
      "[fully_conn] x_tensor shape: (?, 1024)\n",
      "[fully_conn] num_outputs: 512\n",
      "[fully_conn] w: [1024, 512] \n",
      "\n",
      "[output] x_tensor shape: (?, 512)\n",
      "[output] num_outputs: 10\n",
      "[output] w: [512, 10] \n",
      "\n",
      "Neural Network Built!\n"
     ]
    }
   ],
   "source": [
    "def conv_net(x, keep_prob):\n",
    "    \"\"\"\n",
    "    Create a convolutional neural network model\n",
    "    : x: Placeholder tensor that holds image data.\n",
    "    : keep_prob: Placeholder tensor that hold dropout keep probability.\n",
    "    : return: Tensor that represents logits\n",
    "    \"\"\"\n",
    "    # TODO: Apply 1, 2, or 3 Convolution and Max Pool layers\n",
    "    #    Play around with different number of outputs, kernel size and stride\n",
    "    # Function Definition from Above:\n",
    "    #    conv2d_maxpool(x_tensor, conv_num_outputs, conv_ksize, conv_strides, pool_ksize, pool_strides)\n",
    "    \n",
    "\n",
    "    # TODO: Apply a Flatten Layer\n",
    "    # Function Definition from Above:\n",
    "    #   flatten(x_tensor)\n",
    "    \n",
    "\n",
    "    # TODO: Apply 1, 2, or 3 Fully Connected Layers\n",
    "    #    Play around with different number of outputs\n",
    "    # Function Definition from Above:\n",
    "    #   fully_conn(x_tensor, num_outputs)\n",
    "    \n",
    "    \n",
    "    # TODO: Apply an Output Layer\n",
    "    #    Set this to the number of classes\n",
    "    # Function Definition from Above:\n",
    "    #   output(x_tensor, num_outputs)\n",
    "    \n",
    "    \n",
    "    # TODO: return output\n",
    "    conv_num_outputs = 32\n",
    "    conv_ksize = (3,3) \n",
    "    conv_strides = (1,1)\n",
    "    pool_ksize = (2,2)\n",
    "    pool_strides = (2,2)\n",
    "    \n",
    "    conv_layer = conv2d_maxpool(x,conv_num_outputs, conv_ksize, conv_strides, pool_ksize, pool_strides)\n",
    "    \n",
    "    conv_num_outputs = 64\n",
    "    conv_ksize = (3,3) \n",
    "    conv_strides = (1,1)\n",
    "    pool_ksize = (2,2)\n",
    "    pool_strides = (2,2)\n",
    "    \n",
    "    conv_layer = conv2d_maxpool(conv_layer,conv_num_outputs, conv_ksize, conv_strides, pool_ksize, pool_strides)\n",
    "    \n",
    "    '''\n",
    "    conv_num_outputs = 128\n",
    "    conv_ksize = (3,3) \n",
    "    conv_strides = (1,1)\n",
    "    pool_ksize = (2,2)\n",
    "    pool_strides = (2,2)\n",
    "    \n",
    "    conv_layer = conv2d_maxpool(conv_layer,conv_num_outputs, conv_ksize, conv_strides, pool_ksize, pool_strides)\n",
    "    '''\n",
    "    \n",
    "    conv_layer = flatten(conv_layer)\n",
    "    \n",
    "    num_outputs_fc = 1024\n",
    "    conv_layer = fully_conn(conv_layer, num_outputs_fc)\n",
    "    \n",
    "    num_outputs_fc = 512\n",
    "    conv_layer = fully_conn(conv_layer, num_outputs_fc)\n",
    "    \n",
    "    num_outputs = 10\n",
    "    conv_layer = output(conv_layer, num_outputs)\n",
    "    \n",
    "    return conv_layer\n",
    "\n",
    "\n",
    "\"\"\"\n",
    "DON'T MODIFY ANYTHING IN THIS CELL THAT IS BELOW THIS LINE\n",
    "\"\"\"\n",
    "\n",
    "##############################\n",
    "## Build the Neural Network ##\n",
    "##############################\n",
    "\n",
    "# Remove previous weights, bias, inputs, etc..\n",
    "tf.reset_default_graph()\n",
    "\n",
    "# Inputs\n",
    "x = neural_net_image_input((32, 32, 3))\n",
    "y = neural_net_label_input(10)\n",
    "keep_prob = neural_net_keep_prob_input()\n",
    "\n",
    "# Model\n",
    "logits = conv_net(x, keep_prob)\n",
    "\n",
    "# Name logits Tensor, so that is can be loaded from disk after training\n",
    "logits = tf.identity(logits, name='logits')\n",
    "\n",
    "# Loss and Optimizer\n",
    "cost = tf.reduce_mean(tf.nn.softmax_cross_entropy_with_logits(logits=logits, labels=y))\n",
    "optimizer = tf.train.AdamOptimizer().minimize(cost)\n",
    "\n",
    "# Accuracy\n",
    "correct_pred = tf.equal(tf.argmax(logits, 1), tf.argmax(y, 1))\n",
    "accuracy = tf.reduce_mean(tf.cast(correct_pred, tf.float32), name='accuracy')\n",
    "\n",
    "tests.test_conv_net(conv_net)"
   ]
  },
  {
   "cell_type": "markdown",
   "metadata": {
    "deletable": true,
    "editable": true
   },
   "source": [
    "## Train the Neural Network\n",
    "### Single Optimization\n",
    "Implement the function `train_neural_network` to do a single optimization.  The optimization should use `optimizer` to optimize in `session` with a `feed_dict` of the following:\n",
    "* `x` for image input\n",
    "* `y` for labels\n",
    "* `keep_prob` for keep probability for dropout\n",
    "\n",
    "This function will be called for each batch, so `tf.global_variables_initializer()` has already been called.\n",
    "\n",
    "Note: Nothing needs to be returned. This function is only optimizing the neural network."
   ]
  },
  {
   "cell_type": "code",
   "execution_count": 46,
   "metadata": {
    "collapsed": false,
    "deletable": true,
    "editable": true
   },
   "outputs": [
    {
     "name": "stdout",
     "output_type": "stream",
     "text": [
      "Tests Passed\n"
     ]
    }
   ],
   "source": [
    "def train_neural_network(session, optimizer, keep_probability, feature_batch, label_batch):\n",
    "    \"\"\"\n",
    "    Optimize the session on a batch of images and labels\n",
    "    : session: Current TensorFlow session\n",
    "    : optimizer: TensorFlow optimizer function\n",
    "    : keep_probability: keep probability\n",
    "    : feature_batch: Batch of Numpy image data\n",
    "    : label_batch: Batch of Numpy label data\n",
    "    \"\"\"\n",
    "    # TODO: Implement Function\n",
    "    session.run(optimizer, feed_dict={\n",
    "                x: feature_batch,\n",
    "                y: label_batch,\n",
    "                keep_prob: keep_probability})\n",
    "\n",
    "\n",
    "\"\"\"\n",
    "DON'T MODIFY ANYTHING IN THIS CELL THAT IS BELOW THIS LINE\n",
    "\"\"\"\n",
    "tests.test_train_nn(train_neural_network)"
   ]
  },
  {
   "cell_type": "markdown",
   "metadata": {
    "deletable": true,
    "editable": true
   },
   "source": [
    "### Show Stats\n",
    "Implement the function `print_stats` to print loss and validation accuracy.  Use the global variables `valid_features` and `valid_labels` to calculate validation accuracy.  Use a keep probability of `1.0` to calculate the loss and validation accuracy."
   ]
  },
  {
   "cell_type": "code",
   "execution_count": 47,
   "metadata": {
    "collapsed": false,
    "deletable": true,
    "editable": true
   },
   "outputs": [],
   "source": [
    "def print_stats(session, feature_batch, label_batch, cost, accuracy):\n",
    "    \"\"\"\n",
    "    Print information about loss and validation accuracy\n",
    "    : session: Current TensorFlow session\n",
    "    : feature_batch: Batch of Numpy image data\n",
    "    : label_batch: Batch of Numpy label data\n",
    "    : cost: TensorFlow cost function\n",
    "    : accuracy: TensorFlow accuracy function\n",
    "    \"\"\"\n",
    "    # TODO: Implement Function\n",
    "    # Calculate batch loss and accuracy\n",
    "    loss = session.run(cost, feed_dict={\n",
    "        x: feature_batch,\n",
    "        y: label_batch,\n",
    "        keep_prob: 1.})\n",
    "    valid_acc = session.run(accuracy, feed_dict={\n",
    "        x: feature_batch,\n",
    "        y: label_batch,\n",
    "        keep_prob: 1.})\n",
    "\n",
    "    print('Loss: {:>10.4f} Validation Accuracy: {:.6f}'.format(\n",
    "        loss,\n",
    "        valid_acc))"
   ]
  },
  {
   "cell_type": "markdown",
   "metadata": {
    "deletable": true,
    "editable": true
   },
   "source": [
    "### Hyperparameters\n",
    "Tune the following parameters:\n",
    "* Set `epochs` to the number of iterations until the network stops learning or start overfitting\n",
    "* Set `batch_size` to the highest number that your machine has memory for.  Most people set them to common sizes of memory:\n",
    " * 64\n",
    " * 128\n",
    " * 256\n",
    " * ...\n",
    "* Set `keep_probability` to the probability of keeping a node using dropout"
   ]
  },
  {
   "cell_type": "code",
   "execution_count": 52,
   "metadata": {
    "collapsed": true,
    "deletable": true,
    "editable": true
   },
   "outputs": [],
   "source": [
    "# TODO: Tune Parameters\n",
    "epochs = 50\n",
    "batch_size = 128*8\n",
    "keep_probability = 0.75"
   ]
  },
  {
   "cell_type": "markdown",
   "metadata": {
    "deletable": true,
    "editable": true
   },
   "source": [
    "### Train on a Single CIFAR-10 Batch\n",
    "Instead of training the neural network on all the CIFAR-10 batches of data, let's use a single batch. This should save time while you iterate on the model to get a better accuracy.  Once the final validation accuracy is 50% or greater, run the model on all the data in the next section."
   ]
  },
  {
   "cell_type": "code",
   "execution_count": 53,
   "metadata": {
    "collapsed": false,
    "deletable": true,
    "editable": true
   },
   "outputs": [
    {
     "name": "stdout",
     "output_type": "stream",
     "text": [
      "Checking the Training on a Single Batch...\n",
      "Epoch  1, CIFAR-10 Batch 1:  Loss: 176353.7500 Validation Accuracy: 0.113861\n",
      "Epoch  2, CIFAR-10 Batch 1:  Loss: 123471.2344 Validation Accuracy: 0.200495\n",
      "Epoch  3, CIFAR-10 Batch 1:  Loss: 96559.1250 Validation Accuracy: 0.179455\n",
      "Epoch  4, CIFAR-10 Batch 1:  Loss: 70241.9688 Validation Accuracy: 0.245049\n",
      "Epoch  5, CIFAR-10 Batch 1:  Loss: 60134.2812 Validation Accuracy: 0.248762\n",
      "Epoch  6, CIFAR-10 Batch 1:  Loss: 51546.5547 Validation Accuracy: 0.257426\n",
      "Epoch  7, CIFAR-10 Batch 1:  Loss: 46568.9766 Validation Accuracy: 0.271040\n",
      "Epoch  8, CIFAR-10 Batch 1:  Loss: 42160.9453 Validation Accuracy: 0.293317\n",
      "Epoch  9, CIFAR-10 Batch 1:  Loss: 38131.8828 Validation Accuracy: 0.316832\n",
      "Epoch 10, CIFAR-10 Batch 1:  Loss: 34877.7148 Validation Accuracy: 0.335396\n",
      "Epoch 11, CIFAR-10 Batch 1:  Loss: 32101.0215 Validation Accuracy: 0.353960\n",
      "Epoch 12, CIFAR-10 Batch 1:  Loss: 29591.8027 Validation Accuracy: 0.373762\n",
      "Epoch 13, CIFAR-10 Batch 1:  Loss: 27745.2051 Validation Accuracy: 0.387376\n",
      "Epoch 14, CIFAR-10 Batch 1:  Loss: 25968.0059 Validation Accuracy: 0.397277\n",
      "Epoch 15, CIFAR-10 Batch 1:  Loss: 24149.7539 Validation Accuracy: 0.415842\n",
      "Epoch 16, CIFAR-10 Batch 1:  Loss: 22772.3262 Validation Accuracy: 0.426980\n",
      "Epoch 17, CIFAR-10 Batch 1:  Loss: 21038.5918 Validation Accuracy: 0.438119\n",
      "Epoch 18, CIFAR-10 Batch 1:  Loss: 20060.7188 Validation Accuracy: 0.440594\n",
      "Epoch 19, CIFAR-10 Batch 1:  Loss: 18937.7090 Validation Accuracy: 0.451733\n",
      "Epoch 20, CIFAR-10 Batch 1:  Loss: 18160.9375 Validation Accuracy: 0.462871\n",
      "Epoch 21, CIFAR-10 Batch 1:  Loss: 17153.8184 Validation Accuracy: 0.471535\n",
      "Epoch 22, CIFAR-10 Batch 1:  Loss: 16089.0742 Validation Accuracy: 0.476485\n",
      "Epoch 23, CIFAR-10 Batch 1:  Loss: 15080.6875 Validation Accuracy: 0.495050\n",
      "Epoch 24, CIFAR-10 Batch 1:  Loss: 14243.3262 Validation Accuracy: 0.513614\n",
      "Epoch 25, CIFAR-10 Batch 1:  Loss: 13564.8008 Validation Accuracy: 0.522277\n",
      "Epoch 26, CIFAR-10 Batch 1:  Loss: 14502.3408 Validation Accuracy: 0.503713\n",
      "Epoch 27, CIFAR-10 Batch 1:  Loss: 15494.3096 Validation Accuracy: 0.509901\n",
      "Epoch 28, CIFAR-10 Batch 1:  Loss: 14124.4258 Validation Accuracy: 0.524752\n",
      "Epoch 29, CIFAR-10 Batch 1:  Loss: 12131.0518 Validation Accuracy: 0.565594\n",
      "Epoch 30, CIFAR-10 Batch 1:  Loss: 11413.8867 Validation Accuracy: 0.551980\n",
      "Epoch 31, CIFAR-10 Batch 1:  Loss: 11000.8301 Validation Accuracy: 0.555693\n",
      "Epoch 32, CIFAR-10 Batch 1:  Loss: 10470.1914 Validation Accuracy: 0.590347\n",
      "Epoch 33, CIFAR-10 Batch 1:  Loss: 11906.7100 Validation Accuracy: 0.558168\n",
      "Epoch 34, CIFAR-10 Batch 1:  Loss: 12654.8496 Validation Accuracy: 0.525990\n",
      "Epoch 35, CIFAR-10 Batch 1:  Loss:  8654.9932 Validation Accuracy: 0.626238\n",
      "Epoch 36, CIFAR-10 Batch 1:  Loss:  8299.4492 Validation Accuracy: 0.633663\n",
      "Epoch 37, CIFAR-10 Batch 1:  Loss:  8099.9248 Validation Accuracy: 0.622525\n",
      "Epoch 38, CIFAR-10 Batch 1:  Loss:  7521.7012 Validation Accuracy: 0.646040\n",
      "Epoch 39, CIFAR-10 Batch 1:  Loss:  7509.2739 Validation Accuracy: 0.634901\n",
      "Epoch 40, CIFAR-10 Batch 1:  Loss:  8051.1367 Validation Accuracy: 0.622525\n",
      "Epoch 41, CIFAR-10 Batch 1:  Loss:  7849.5293 Validation Accuracy: 0.627475\n",
      "Epoch 42, CIFAR-10 Batch 1:  Loss:  8308.1934 Validation Accuracy: 0.618812\n",
      "Epoch 43, CIFAR-10 Batch 1:  Loss: 10274.3086 Validation Accuracy: 0.564356\n",
      "Epoch 44, CIFAR-10 Batch 1:  Loss:  8559.3291 Validation Accuracy: 0.597772\n",
      "Epoch 45, CIFAR-10 Batch 1:  Loss:  7162.4150 Validation Accuracy: 0.668317\n",
      "Epoch 46, CIFAR-10 Batch 1:  Loss:  8177.5239 Validation Accuracy: 0.650990\n",
      "Epoch 47, CIFAR-10 Batch 1:  Loss:  7816.0181 Validation Accuracy: 0.650990\n",
      "Epoch 48, CIFAR-10 Batch 1:  Loss:  8109.5483 Validation Accuracy: 0.648515\n",
      "Epoch 49, CIFAR-10 Batch 1:  Loss:  7446.4824 Validation Accuracy: 0.659653\n",
      "Epoch 50, CIFAR-10 Batch 1:  Loss:  7053.5117 Validation Accuracy: 0.685644\n"
     ]
    }
   ],
   "source": [
    "\"\"\"\n",
    "DON'T MODIFY ANYTHING IN THIS CELL\n",
    "\"\"\"\n",
    "print('Checking the Training on a Single Batch...')\n",
    "with tf.Session() as sess:\n",
    "    # Initializing the variables\n",
    "    sess.run(tf.global_variables_initializer())\n",
    "    \n",
    "    # Training cycle\n",
    "    for epoch in range(epochs):\n",
    "        batch_i = 1\n",
    "        for batch_features, batch_labels in helper.load_preprocess_training_batch(batch_i, batch_size):\n",
    "            train_neural_network(sess, optimizer, keep_probability, batch_features, batch_labels)\n",
    "        print('Epoch {:>2}, CIFAR-10 Batch {}:  '.format(epoch + 1, batch_i), end='')\n",
    "        print_stats(sess, batch_features, batch_labels, cost, accuracy)"
   ]
  },
  {
   "cell_type": "markdown",
   "metadata": {
    "deletable": true,
    "editable": true
   },
   "source": [
    "### Fully Train the Model\n",
    "Now that you got a good accuracy with a single CIFAR-10 batch, try it with all five batches."
   ]
  },
  {
   "cell_type": "code",
   "execution_count": 54,
   "metadata": {
    "collapsed": false,
    "deletable": true,
    "editable": true
   },
   "outputs": [
    {
     "name": "stdout",
     "output_type": "stream",
     "text": [
      "Training...\n",
      "Epoch  1, CIFAR-10 Batch 1:  Loss: 78952.2266 Validation Accuracy: 0.170792\n",
      "Epoch  1, CIFAR-10 Batch 2:  Loss: 62742.7812 Validation Accuracy: 0.228960\n",
      "Epoch  1, CIFAR-10 Batch 3:  Loss: 52830.2148 Validation Accuracy: 0.224010\n",
      "Epoch  1, CIFAR-10 Batch 4:  Loss: 40632.6719 Validation Accuracy: 0.301980\n",
      "Epoch  1, CIFAR-10 Batch 5:  Loss: 39304.2695 Validation Accuracy: 0.271040\n",
      "Epoch  2, CIFAR-10 Batch 1:  Loss: 35617.1523 Validation Accuracy: 0.293317\n",
      "Epoch  2, CIFAR-10 Batch 2:  Loss: 34901.5977 Validation Accuracy: 0.299505\n",
      "Epoch  2, CIFAR-10 Batch 3:  Loss: 32804.3516 Validation Accuracy: 0.306931\n",
      "Epoch  2, CIFAR-10 Batch 4:  Loss: 26144.3887 Validation Accuracy: 0.370050\n",
      "Epoch  2, CIFAR-10 Batch 5:  Loss: 27640.1074 Validation Accuracy: 0.341584\n",
      "Epoch  3, CIFAR-10 Batch 1:  Loss: 26063.6172 Validation Accuracy: 0.346535\n",
      "Epoch  3, CIFAR-10 Batch 2:  Loss: 25434.8223 Validation Accuracy: 0.335396\n",
      "Epoch  3, CIFAR-10 Batch 3:  Loss: 25280.8379 Validation Accuracy: 0.344059\n",
      "Epoch  3, CIFAR-10 Batch 4:  Loss: 20022.8945 Validation Accuracy: 0.387376\n",
      "Epoch  3, CIFAR-10 Batch 5:  Loss: 21661.3945 Validation Accuracy: 0.377475\n",
      "Epoch  4, CIFAR-10 Batch 1:  Loss: 21429.4727 Validation Accuracy: 0.347772\n",
      "Epoch  4, CIFAR-10 Batch 2:  Loss: 20390.1074 Validation Accuracy: 0.363861\n",
      "Epoch  4, CIFAR-10 Batch 3:  Loss: 20600.7617 Validation Accuracy: 0.365099\n",
      "Epoch  4, CIFAR-10 Batch 4:  Loss: 16345.2246 Validation Accuracy: 0.415842\n",
      "Epoch  4, CIFAR-10 Batch 5:  Loss: 18177.0234 Validation Accuracy: 0.410891\n",
      "Epoch  5, CIFAR-10 Batch 1:  Loss: 18070.7969 Validation Accuracy: 0.362624\n",
      "Epoch  5, CIFAR-10 Batch 2:  Loss: 17171.4023 Validation Accuracy: 0.386139\n",
      "Epoch  5, CIFAR-10 Batch 3:  Loss: 17336.1289 Validation Accuracy: 0.402228\n",
      "Epoch  5, CIFAR-10 Batch 4:  Loss: 14011.7910 Validation Accuracy: 0.441832\n",
      "Epoch  5, CIFAR-10 Batch 5:  Loss: 15249.5771 Validation Accuracy: 0.430693\n",
      "Epoch  6, CIFAR-10 Batch 1:  Loss: 15745.8301 Validation Accuracy: 0.402228\n",
      "Epoch  6, CIFAR-10 Batch 2:  Loss: 15015.1504 Validation Accuracy: 0.402228\n",
      "Epoch  6, CIFAR-10 Batch 3:  Loss: 14813.1631 Validation Accuracy: 0.424505\n",
      "Epoch  6, CIFAR-10 Batch 4:  Loss: 12432.2490 Validation Accuracy: 0.450495\n",
      "Epoch  6, CIFAR-10 Batch 5:  Loss: 13395.6826 Validation Accuracy: 0.465347\n",
      "Epoch  7, CIFAR-10 Batch 1:  Loss: 14017.0938 Validation Accuracy: 0.424505\n",
      "Epoch  7, CIFAR-10 Batch 2:  Loss: 13318.2832 Validation Accuracy: 0.420792\n",
      "Epoch  7, CIFAR-10 Batch 3:  Loss: 12978.0605 Validation Accuracy: 0.436881\n",
      "Epoch  7, CIFAR-10 Batch 4:  Loss: 10944.0938 Validation Accuracy: 0.475248\n",
      "Epoch  7, CIFAR-10 Batch 5:  Loss: 11800.8799 Validation Accuracy: 0.477723\n",
      "Epoch  8, CIFAR-10 Batch 1:  Loss: 12300.7227 Validation Accuracy: 0.438119\n",
      "Epoch  8, CIFAR-10 Batch 2:  Loss: 12029.6562 Validation Accuracy: 0.438119\n",
      "Epoch  8, CIFAR-10 Batch 3:  Loss: 11444.3271 Validation Accuracy: 0.454208\n",
      "Epoch  8, CIFAR-10 Batch 4:  Loss:  9819.9131 Validation Accuracy: 0.481436\n",
      "Epoch  8, CIFAR-10 Batch 5:  Loss: 10631.1553 Validation Accuracy: 0.496287\n",
      "Epoch  9, CIFAR-10 Batch 1:  Loss: 10765.5312 Validation Accuracy: 0.448020\n",
      "Epoch  9, CIFAR-10 Batch 2:  Loss: 11017.0977 Validation Accuracy: 0.452970\n",
      "Epoch  9, CIFAR-10 Batch 3:  Loss: 10242.2383 Validation Accuracy: 0.465347\n",
      "Epoch  9, CIFAR-10 Batch 4:  Loss:  9005.1357 Validation Accuracy: 0.488861\n",
      "Epoch  9, CIFAR-10 Batch 5:  Loss:  9570.6904 Validation Accuracy: 0.503713\n",
      "Epoch 10, CIFAR-10 Batch 1:  Loss:  9715.0811 Validation Accuracy: 0.451733\n",
      "Epoch 10, CIFAR-10 Batch 2:  Loss: 10016.7988 Validation Accuracy: 0.461634\n",
      "Epoch 10, CIFAR-10 Batch 3:  Loss:  9235.3447 Validation Accuracy: 0.483911\n",
      "Epoch 10, CIFAR-10 Batch 4:  Loss:  8206.0869 Validation Accuracy: 0.509901\n",
      "Epoch 10, CIFAR-10 Batch 5:  Loss:  8724.5938 Validation Accuracy: 0.517327\n",
      "Epoch 11, CIFAR-10 Batch 1:  Loss:  8843.0957 Validation Accuracy: 0.476485\n",
      "Epoch 11, CIFAR-10 Batch 2:  Loss:  9150.4746 Validation Accuracy: 0.466584\n",
      "Epoch 11, CIFAR-10 Batch 3:  Loss:  8402.6846 Validation Accuracy: 0.493812\n",
      "Epoch 11, CIFAR-10 Batch 4:  Loss:  7478.6646 Validation Accuracy: 0.519802\n",
      "Epoch 11, CIFAR-10 Batch 5:  Loss:  7968.9014 Validation Accuracy: 0.525990\n",
      "Epoch 12, CIFAR-10 Batch 1:  Loss:  8145.7607 Validation Accuracy: 0.506188\n",
      "Epoch 12, CIFAR-10 Batch 2:  Loss:  8259.1641 Validation Accuracy: 0.477723\n",
      "Epoch 12, CIFAR-10 Batch 3:  Loss:  7694.2852 Validation Accuracy: 0.508663\n",
      "Epoch 12, CIFAR-10 Batch 4:  Loss:  6914.0664 Validation Accuracy: 0.534653\n",
      "Epoch 12, CIFAR-10 Batch 5:  Loss:  7420.4199 Validation Accuracy: 0.534653\n",
      "Epoch 13, CIFAR-10 Batch 1:  Loss:  7483.3545 Validation Accuracy: 0.517327\n",
      "Epoch 13, CIFAR-10 Batch 2:  Loss:  7624.7715 Validation Accuracy: 0.487624\n",
      "Epoch 13, CIFAR-10 Batch 3:  Loss:  7240.5601 Validation Accuracy: 0.501238\n",
      "Epoch 13, CIFAR-10 Batch 4:  Loss:  6458.0386 Validation Accuracy: 0.523515\n",
      "Epoch 13, CIFAR-10 Batch 5:  Loss:  6951.4834 Validation Accuracy: 0.556931\n",
      "Epoch 14, CIFAR-10 Batch 1:  Loss:  7053.6934 Validation Accuracy: 0.530941\n",
      "Epoch 14, CIFAR-10 Batch 2:  Loss:  7166.0850 Validation Accuracy: 0.495050\n",
      "Epoch 14, CIFAR-10 Batch 3:  Loss:  6619.0938 Validation Accuracy: 0.519802\n",
      "Epoch 14, CIFAR-10 Batch 4:  Loss:  6180.7051 Validation Accuracy: 0.538366\n",
      "Epoch 14, CIFAR-10 Batch 5:  Loss:  6522.1602 Validation Accuracy: 0.555693\n",
      "Epoch 15, CIFAR-10 Batch 1:  Loss:  6759.7070 Validation Accuracy: 0.544554\n",
      "Epoch 15, CIFAR-10 Batch 2:  Loss:  6848.8350 Validation Accuracy: 0.507426\n",
      "Epoch 15, CIFAR-10 Batch 3:  Loss:  6150.8711 Validation Accuracy: 0.542079\n",
      "Epoch 15, CIFAR-10 Batch 4:  Loss:  5809.8237 Validation Accuracy: 0.575495\n",
      "Epoch 15, CIFAR-10 Batch 5:  Loss:  6060.9248 Validation Accuracy: 0.580446\n",
      "Epoch 16, CIFAR-10 Batch 1:  Loss:  6815.0410 Validation Accuracy: 0.547030\n",
      "Epoch 16, CIFAR-10 Batch 2:  Loss:  6450.4155 Validation Accuracy: 0.497525\n",
      "Epoch 16, CIFAR-10 Batch 3:  Loss:  5899.7202 Validation Accuracy: 0.542079\n",
      "Epoch 16, CIFAR-10 Batch 4:  Loss:  5583.1118 Validation Accuracy: 0.580445\n",
      "Epoch 16, CIFAR-10 Batch 5:  Loss:  5626.2871 Validation Accuracy: 0.581683\n",
      "Epoch 17, CIFAR-10 Batch 1:  Loss:  6053.2295 Validation Accuracy: 0.579208\n",
      "Epoch 17, CIFAR-10 Batch 2:  Loss:  6088.1982 Validation Accuracy: 0.506188\n",
      "Epoch 17, CIFAR-10 Batch 3:  Loss:  5206.3193 Validation Accuracy: 0.569307\n",
      "Epoch 17, CIFAR-10 Batch 4:  Loss:  5005.7437 Validation Accuracy: 0.599010\n",
      "Epoch 17, CIFAR-10 Batch 5:  Loss:  5484.1865 Validation Accuracy: 0.584158\n",
      "Epoch 18, CIFAR-10 Batch 1:  Loss:  5444.9902 Validation Accuracy: 0.571782\n",
      "Epoch 18, CIFAR-10 Batch 2:  Loss:  5369.3687 Validation Accuracy: 0.530941\n",
      "Epoch 18, CIFAR-10 Batch 3:  Loss:  4923.5942 Validation Accuracy: 0.574257\n",
      "Epoch 18, CIFAR-10 Batch 4:  Loss:  4473.9287 Validation Accuracy: 0.615099\n",
      "Epoch 18, CIFAR-10 Batch 5:  Loss:  4898.0332 Validation Accuracy: 0.597772\n",
      "Epoch 19, CIFAR-10 Batch 1:  Loss:  5215.5063 Validation Accuracy: 0.564356\n",
      "Epoch 19, CIFAR-10 Batch 2:  Loss:  5098.6260 Validation Accuracy: 0.564356\n",
      "Epoch 19, CIFAR-10 Batch 3:  Loss:  4493.0864 Validation Accuracy: 0.587871\n",
      "Epoch 19, CIFAR-10 Batch 4:  Loss:  4269.1816 Validation Accuracy: 0.603960\n",
      "Epoch 19, CIFAR-10 Batch 5:  Loss:  4655.9014 Validation Accuracy: 0.610149\n",
      "Epoch 20, CIFAR-10 Batch 1:  Loss:  4991.5596 Validation Accuracy: 0.584158\n",
      "Epoch 20, CIFAR-10 Batch 2:  Loss:  4889.5972 Validation Accuracy: 0.575495\n",
      "Epoch 20, CIFAR-10 Batch 3:  Loss:  4100.7285 Validation Accuracy: 0.608911\n",
      "Epoch 20, CIFAR-10 Batch 4:  Loss:  4066.2175 Validation Accuracy: 0.616337\n",
      "Epoch 20, CIFAR-10 Batch 5:  Loss:  4542.4531 Validation Accuracy: 0.613861\n",
      "Epoch 21, CIFAR-10 Batch 1:  Loss:  4733.1318 Validation Accuracy: 0.581683\n",
      "Epoch 21, CIFAR-10 Batch 2:  Loss:  4599.4990 Validation Accuracy: 0.595297\n",
      "Epoch 21, CIFAR-10 Batch 3:  Loss:  4097.4438 Validation Accuracy: 0.600248\n",
      "Epoch 21, CIFAR-10 Batch 4:  Loss:  3722.6299 Validation Accuracy: 0.627475\n",
      "Epoch 21, CIFAR-10 Batch 5:  Loss:  4536.4185 Validation Accuracy: 0.612624\n",
      "Epoch 22, CIFAR-10 Batch 1:  Loss:  4544.1138 Validation Accuracy: 0.596535\n",
      "Epoch 22, CIFAR-10 Batch 2:  Loss:  4132.2188 Validation Accuracy: 0.596535\n",
      "Epoch 22, CIFAR-10 Batch 3:  Loss:  3858.5127 Validation Accuracy: 0.608911\n",
      "Epoch 22, CIFAR-10 Batch 4:  Loss:  3882.8418 Validation Accuracy: 0.613861\n",
      "Epoch 22, CIFAR-10 Batch 5:  Loss:  4293.2622 Validation Accuracy: 0.616337\n",
      "Epoch 23, CIFAR-10 Batch 1:  Loss:  4359.7432 Validation Accuracy: 0.601485\n",
      "Epoch 23, CIFAR-10 Batch 2:  Loss:  3930.1760 Validation Accuracy: 0.594059\n",
      "Epoch 23, CIFAR-10 Batch 3:  Loss:  3337.7964 Validation Accuracy: 0.625000\n",
      "Epoch 23, CIFAR-10 Batch 4:  Loss:  3822.3538 Validation Accuracy: 0.618812\n",
      "Epoch 23, CIFAR-10 Batch 5:  Loss:  3945.8613 Validation Accuracy: 0.637376\n",
      "Epoch 24, CIFAR-10 Batch 1:  Loss:  4406.3916 Validation Accuracy: 0.580446\n",
      "Epoch 24, CIFAR-10 Batch 2:  Loss:  3759.6350 Validation Accuracy: 0.622525\n",
      "Epoch 24, CIFAR-10 Batch 3:  Loss:  3167.3865 Validation Accuracy: 0.641089\n",
      "Epoch 24, CIFAR-10 Batch 4:  Loss:  3472.3262 Validation Accuracy: 0.629950\n",
      "Epoch 24, CIFAR-10 Batch 5:  Loss:  3858.6919 Validation Accuracy: 0.636139\n",
      "Epoch 25, CIFAR-10 Batch 1:  Loss:  4096.3423 Validation Accuracy: 0.592822\n",
      "Epoch 25, CIFAR-10 Batch 2:  Loss:  3484.9810 Validation Accuracy: 0.616337\n",
      "Epoch 25, CIFAR-10 Batch 3:  Loss:  3189.1143 Validation Accuracy: 0.636139\n",
      "Epoch 25, CIFAR-10 Batch 4:  Loss:  3006.2637 Validation Accuracy: 0.673267\n",
      "Epoch 25, CIFAR-10 Batch 5:  Loss:  3473.9172 Validation Accuracy: 0.650990\n",
      "Epoch 26, CIFAR-10 Batch 1:  Loss:  3890.0605 Validation Accuracy: 0.600248\n",
      "Epoch 26, CIFAR-10 Batch 2:  Loss:  3254.2378 Validation Accuracy: 0.636139\n",
      "Epoch 26, CIFAR-10 Batch 3:  Loss:  3000.4482 Validation Accuracy: 0.631188\n",
      "Epoch 26, CIFAR-10 Batch 4:  Loss:  3022.3530 Validation Accuracy: 0.641089\n",
      "Epoch 26, CIFAR-10 Batch 5:  Loss:  3299.7349 Validation Accuracy: 0.642327\n",
      "Epoch 27, CIFAR-10 Batch 1:  Loss:  3401.9424 Validation Accuracy: 0.623762\n",
      "Epoch 27, CIFAR-10 Batch 2:  Loss:  3156.0586 Validation Accuracy: 0.634901\n",
      "Epoch 27, CIFAR-10 Batch 3:  Loss:  2720.3606 Validation Accuracy: 0.633663\n",
      "Epoch 27, CIFAR-10 Batch 4:  Loss:  2527.9148 Validation Accuracy: 0.688119\n",
      "Epoch 27, CIFAR-10 Batch 5:  Loss:  2914.0454 Validation Accuracy: 0.673267\n",
      "Epoch 28, CIFAR-10 Batch 1:  Loss:  3005.6990 Validation Accuracy: 0.659653\n",
      "Epoch 28, CIFAR-10 Batch 2:  Loss:  2939.8213 Validation Accuracy: 0.646040\n",
      "Epoch 28, CIFAR-10 Batch 3:  Loss:  2691.8455 Validation Accuracy: 0.646040\n",
      "Epoch 28, CIFAR-10 Batch 4:  Loss:  2359.4441 Validation Accuracy: 0.716584\n",
      "Epoch 28, CIFAR-10 Batch 5:  Loss:  2823.5859 Validation Accuracy: 0.658416\n",
      "Epoch 29, CIFAR-10 Batch 1:  Loss:  2906.3606 Validation Accuracy: 0.667079\n",
      "Epoch 29, CIFAR-10 Batch 2:  Loss:  3036.3816 Validation Accuracy: 0.634901\n",
      "Epoch 29, CIFAR-10 Batch 3:  Loss:  2566.6221 Validation Accuracy: 0.659653\n",
      "Epoch 29, CIFAR-10 Batch 4:  Loss:  2449.6938 Validation Accuracy: 0.702970\n",
      "Epoch 29, CIFAR-10 Batch 5:  Loss:  2740.9822 Validation Accuracy: 0.668317\n",
      "Epoch 30, CIFAR-10 Batch 1:  Loss:  2916.1606 Validation Accuracy: 0.659653\n",
      "Epoch 30, CIFAR-10 Batch 2:  Loss:  2885.0337 Validation Accuracy: 0.637376\n",
      "Epoch 30, CIFAR-10 Batch 3:  Loss:  2407.1709 Validation Accuracy: 0.683168\n",
      "Epoch 30, CIFAR-10 Batch 4:  Loss:  2396.1423 Validation Accuracy: 0.700495\n",
      "Epoch 30, CIFAR-10 Batch 5:  Loss:  2675.4561 Validation Accuracy: 0.668317\n",
      "Epoch 31, CIFAR-10 Batch 1:  Loss:  2728.5195 Validation Accuracy: 0.667079\n",
      "Epoch 31, CIFAR-10 Batch 2:  Loss:  2605.5066 Validation Accuracy: 0.672030\n",
      "Epoch 31, CIFAR-10 Batch 3:  Loss:  2065.5479 Validation Accuracy: 0.709158\n",
      "Epoch 31, CIFAR-10 Batch 4:  Loss:  2437.1099 Validation Accuracy: 0.680693\n",
      "Epoch 31, CIFAR-10 Batch 5:  Loss:  2618.8738 Validation Accuracy: 0.686881\n",
      "Epoch 32, CIFAR-10 Batch 1:  Loss:  2738.1750 Validation Accuracy: 0.670792\n",
      "Epoch 32, CIFAR-10 Batch 2:  Loss:  2638.1228 Validation Accuracy: 0.653465\n",
      "Epoch 32, CIFAR-10 Batch 3:  Loss:  2193.4326 Validation Accuracy: 0.707921\n",
      "Epoch 32, CIFAR-10 Batch 4:  Loss:  2408.1687 Validation Accuracy: 0.683168\n",
      "Epoch 32, CIFAR-10 Batch 5:  Loss:  2425.4341 Validation Accuracy: 0.699257\n",
      "Epoch 33, CIFAR-10 Batch 1:  Loss:  2799.7781 Validation Accuracy: 0.653465\n",
      "Epoch 33, CIFAR-10 Batch 2:  Loss:  2368.8064 Validation Accuracy: 0.685643\n",
      "Epoch 33, CIFAR-10 Batch 3:  Loss:  2482.1006 Validation Accuracy: 0.667079\n",
      "Epoch 33, CIFAR-10 Batch 4:  Loss:  2356.5989 Validation Accuracy: 0.683168\n",
      "Epoch 33, CIFAR-10 Batch 5:  Loss:  2397.8196 Validation Accuracy: 0.700495\n",
      "Epoch 34, CIFAR-10 Batch 1:  Loss:  2402.5552 Validation Accuracy: 0.683168\n",
      "Epoch 34, CIFAR-10 Batch 2:  Loss:  2139.2798 Validation Accuracy: 0.696782\n",
      "Epoch 34, CIFAR-10 Batch 3:  Loss:  2134.5042 Validation Accuracy: 0.700495\n",
      "Epoch 34, CIFAR-10 Batch 4:  Loss:  1931.8190 Validation Accuracy: 0.720297\n",
      "Epoch 34, CIFAR-10 Batch 5:  Loss:  2300.3823 Validation Accuracy: 0.706683\n",
      "Epoch 35, CIFAR-10 Batch 1:  Loss:  2087.1294 Validation Accuracy: 0.707921\n",
      "Epoch 35, CIFAR-10 Batch 2:  Loss:  2026.4905 Validation Accuracy: 0.721535\n",
      "Epoch 35, CIFAR-10 Batch 3:  Loss:  1846.6139 Validation Accuracy: 0.719059\n",
      "Epoch 35, CIFAR-10 Batch 4:  Loss:  1782.8054 Validation Accuracy: 0.728960\n",
      "Epoch 35, CIFAR-10 Batch 5:  Loss:  2013.4908 Validation Accuracy: 0.724010\n",
      "Epoch 36, CIFAR-10 Batch 1:  Loss:  1816.0083 Validation Accuracy: 0.741337\n",
      "Epoch 36, CIFAR-10 Batch 2:  Loss:  1894.0106 Validation Accuracy: 0.714109\n",
      "Epoch 36, CIFAR-10 Batch 3:  Loss:  1606.8423 Validation Accuracy: 0.740099\n",
      "Epoch 36, CIFAR-10 Batch 4:  Loss:  1653.9402 Validation Accuracy: 0.753713\n",
      "Epoch 36, CIFAR-10 Batch 5:  Loss:  1896.5499 Validation Accuracy: 0.726485\n",
      "Epoch 37, CIFAR-10 Batch 1:  Loss:  1959.0184 Validation Accuracy: 0.720297\n",
      "Epoch 37, CIFAR-10 Batch 2:  Loss:  1832.8208 Validation Accuracy: 0.705446\n",
      "Epoch 37, CIFAR-10 Batch 3:  Loss:  1532.2001 Validation Accuracy: 0.752475\n",
      "Epoch 37, CIFAR-10 Batch 4:  Loss:  1794.3022 Validation Accuracy: 0.712871\n",
      "Epoch 37, CIFAR-10 Batch 5:  Loss:  2013.3328 Validation Accuracy: 0.714109\n",
      "Epoch 38, CIFAR-10 Batch 1:  Loss:  2068.3220 Validation Accuracy: 0.707921\n",
      "Epoch 38, CIFAR-10 Batch 2:  Loss:  1981.5498 Validation Accuracy: 0.684406\n",
      "Epoch 38, CIFAR-10 Batch 3:  Loss:  1430.8362 Validation Accuracy: 0.763614\n",
      "Epoch 38, CIFAR-10 Batch 4:  Loss:  1650.1005 Validation Accuracy: 0.741337\n",
      "Epoch 38, CIFAR-10 Batch 5:  Loss:  1766.2164 Validation Accuracy: 0.732673\n",
      "Epoch 39, CIFAR-10 Batch 1:  Loss:  1700.9255 Validation Accuracy: 0.746287\n",
      "Epoch 39, CIFAR-10 Batch 2:  Loss:  1774.8826 Validation Accuracy: 0.707921\n",
      "Epoch 39, CIFAR-10 Batch 3:  Loss:  1341.6404 Validation Accuracy: 0.764851\n",
      "Epoch 39, CIFAR-10 Batch 4:  Loss:  1466.2544 Validation Accuracy: 0.753713\n",
      "Epoch 39, CIFAR-10 Batch 5:  Loss:  1536.1025 Validation Accuracy: 0.748762\n",
      "Epoch 40, CIFAR-10 Batch 1:  Loss:  1643.8147 Validation Accuracy: 0.740099\n",
      "Epoch 40, CIFAR-10 Batch 2:  Loss:  1574.0214 Validation Accuracy: 0.731436\n",
      "Epoch 40, CIFAR-10 Batch 3:  Loss:  1243.0981 Validation Accuracy: 0.767327\n",
      "Epoch 40, CIFAR-10 Batch 4:  Loss:  1417.1846 Validation Accuracy: 0.748762\n",
      "Epoch 40, CIFAR-10 Batch 5:  Loss:  1398.8848 Validation Accuracy: 0.767327\n",
      "Epoch 41, CIFAR-10 Batch 1:  Loss:  1709.7803 Validation Accuracy: 0.735149\n",
      "Epoch 41, CIFAR-10 Batch 2:  Loss:  1466.3805 Validation Accuracy: 0.756188\n",
      "Epoch 41, CIFAR-10 Batch 3:  Loss:  1231.8264 Validation Accuracy: 0.769802\n",
      "Epoch 41, CIFAR-10 Batch 4:  Loss:  1596.4459 Validation Accuracy: 0.721535\n",
      "Epoch 41, CIFAR-10 Batch 5:  Loss:  1194.8522 Validation Accuracy: 0.785891\n",
      "Epoch 42, CIFAR-10 Batch 1:  Loss:  1802.2024 Validation Accuracy: 0.717822\n",
      "Epoch 42, CIFAR-10 Batch 2:  Loss:  1373.6016 Validation Accuracy: 0.775990\n",
      "Epoch 42, CIFAR-10 Batch 3:  Loss:  1362.0603 Validation Accuracy: 0.743812\n",
      "Epoch 42, CIFAR-10 Batch 4:  Loss:  1578.4304 Validation Accuracy: 0.731436\n",
      "Epoch 42, CIFAR-10 Batch 5:  Loss:  1574.7295 Validation Accuracy: 0.712871\n",
      "Epoch 43, CIFAR-10 Batch 1:  Loss:  1695.6875 Validation Accuracy: 0.724010\n",
      "Epoch 43, CIFAR-10 Batch 2:  Loss:  1629.4973 Validation Accuracy: 0.756188\n",
      "Epoch 43, CIFAR-10 Batch 3:  Loss:  1156.5583 Validation Accuracy: 0.773515\n",
      "Epoch 43, CIFAR-10 Batch 4:  Loss:  1327.1984 Validation Accuracy: 0.769802\n",
      "Epoch 43, CIFAR-10 Batch 5:  Loss:  1536.6777 Validation Accuracy: 0.707921\n",
      "Epoch 44, CIFAR-10 Batch 1:  Loss:  1483.4879 Validation Accuracy: 0.733911\n",
      "Epoch 44, CIFAR-10 Batch 2:  Loss:  1475.0684 Validation Accuracy: 0.761139\n",
      "Epoch 44, CIFAR-10 Batch 3:  Loss:   965.9968 Validation Accuracy: 0.798267\n",
      "Epoch 44, CIFAR-10 Batch 4:  Loss:  1190.5846 Validation Accuracy: 0.775990\n",
      "Epoch 44, CIFAR-10 Batch 5:  Loss:  1325.2301 Validation Accuracy: 0.747525\n",
      "Epoch 45, CIFAR-10 Batch 1:  Loss:  1448.0988 Validation Accuracy: 0.742574\n",
      "Epoch 45, CIFAR-10 Batch 2:  Loss:  1373.1016 Validation Accuracy: 0.763614\n",
      "Epoch 45, CIFAR-10 Batch 3:  Loss:  1198.0385 Validation Accuracy: 0.753713\n",
      "Epoch 45, CIFAR-10 Batch 4:  Loss:  1155.9160 Validation Accuracy: 0.771040\n",
      "Epoch 45, CIFAR-10 Batch 5:  Loss:  1161.2395 Validation Accuracy: 0.779703\n",
      "Epoch 46, CIFAR-10 Batch 1:  Loss:  1421.0608 Validation Accuracy: 0.748762\n",
      "Epoch 46, CIFAR-10 Batch 2:  Loss:  1475.5375 Validation Accuracy: 0.731436\n",
      "Epoch 46, CIFAR-10 Batch 3:  Loss:  1401.2913 Validation Accuracy: 0.747525\n",
      "Epoch 46, CIFAR-10 Batch 4:  Loss:  1065.0208 Validation Accuracy: 0.783416\n",
      "Epoch 46, CIFAR-10 Batch 5:  Loss:  1017.7144 Validation Accuracy: 0.795792\n",
      "Epoch 47, CIFAR-10 Batch 1:  Loss:  1182.6797 Validation Accuracy: 0.785891\n",
      "Epoch 47, CIFAR-10 Batch 2:  Loss:  1252.3645 Validation Accuracy: 0.772277\n",
      "Epoch 47, CIFAR-10 Batch 3:  Loss:  1372.1082 Validation Accuracy: 0.756188\n",
      "Epoch 47, CIFAR-10 Batch 4:  Loss:  1190.7230 Validation Accuracy: 0.763614\n",
      "Epoch 47, CIFAR-10 Batch 5:  Loss:   976.6493 Validation Accuracy: 0.800743\n",
      "Epoch 48, CIFAR-10 Batch 1:  Loss:  1023.6814 Validation Accuracy: 0.813119\n",
      "Epoch 48, CIFAR-10 Batch 2:  Loss:  1036.8772 Validation Accuracy: 0.808168\n",
      "Epoch 48, CIFAR-10 Batch 3:  Loss:  1128.4417 Validation Accuracy: 0.774752\n",
      "Epoch 48, CIFAR-10 Batch 4:  Loss:   928.2718 Validation Accuracy: 0.797030\n",
      "Epoch 48, CIFAR-10 Batch 5:  Loss:   919.7166 Validation Accuracy: 0.803218\n",
      "Epoch 49, CIFAR-10 Batch 1:  Loss:   961.5479 Validation Accuracy: 0.811881\n",
      "Epoch 49, CIFAR-10 Batch 2:  Loss:  1040.9001 Validation Accuracy: 0.820545\n",
      "Epoch 49, CIFAR-10 Batch 3:  Loss:   973.9424 Validation Accuracy: 0.793317\n",
      "Epoch 49, CIFAR-10 Batch 4:  Loss:   775.8430 Validation Accuracy: 0.831683\n",
      "Epoch 49, CIFAR-10 Batch 5:  Loss:   929.6411 Validation Accuracy: 0.793317\n",
      "Epoch 50, CIFAR-10 Batch 1:  Loss:   873.9453 Validation Accuracy: 0.820545\n",
      "Epoch 50, CIFAR-10 Batch 2:  Loss:  1160.5938 Validation Accuracy: 0.797030\n",
      "Epoch 50, CIFAR-10 Batch 3:  Loss:   740.2916 Validation Accuracy: 0.829208\n",
      "Epoch 50, CIFAR-10 Batch 4:  Loss:   734.9935 Validation Accuracy: 0.836634\n",
      "Epoch 50, CIFAR-10 Batch 5:  Loss:   911.5806 Validation Accuracy: 0.797030\n"
     ]
    }
   ],
   "source": [
    "\"\"\"\n",
    "DON'T MODIFY ANYTHING IN THIS CELL\n",
    "\"\"\"\n",
    "save_model_path = './image_classification'\n",
    "\n",
    "print('Training...')\n",
    "with tf.Session() as sess:\n",
    "    # Initializing the variables\n",
    "    sess.run(tf.global_variables_initializer())\n",
    "    \n",
    "    # Training cycle\n",
    "    for epoch in range(epochs):\n",
    "        # Loop over all batches\n",
    "        n_batches = 5\n",
    "        for batch_i in range(1, n_batches + 1):\n",
    "            for batch_features, batch_labels in helper.load_preprocess_training_batch(batch_i, batch_size):\n",
    "                train_neural_network(sess, optimizer, keep_probability, batch_features, batch_labels)\n",
    "            print('Epoch {:>2}, CIFAR-10 Batch {}:  '.format(epoch + 1, batch_i), end='')\n",
    "            print_stats(sess, batch_features, batch_labels, cost, accuracy)\n",
    "            \n",
    "    # Save Model\n",
    "    saver = tf.train.Saver()\n",
    "    save_path = saver.save(sess, save_model_path)"
   ]
  },
  {
   "cell_type": "markdown",
   "metadata": {
    "deletable": true,
    "editable": true
   },
   "source": [
    "# Checkpoint\n",
    "The model has been saved to disk.\n",
    "## Test Model\n",
    "Test your model against the test dataset.  This will be your final accuracy. You should have an accuracy greater than 50%. If you don't, keep tweaking the model architecture and parameters."
   ]
  },
  {
   "cell_type": "code",
   "execution_count": 55,
   "metadata": {
    "collapsed": false,
    "deletable": true,
    "editable": true
   },
   "outputs": [
    {
     "name": "stdout",
     "output_type": "stream",
     "text": [
      "Testing Accuracy: 0.5092992663383484\n",
      "\n"
     ]
    },
    {
     "data": {
      "image/png": "[encoded data removed]",
      "text/plain": [
       "<matplotlib.figure.Figure at 0x7f5fa069a1d0>"
      ]
     },
     "metadata": {
      "image/png": {
       "height": 319,
       "width": 349
      }
     },
     "output_type": "display_data"
    }
   ],
   "source": [
    "\"\"\"\n",
    "DON'T MODIFY ANYTHING IN THIS CELL\n",
    "\"\"\"\n",
    "%matplotlib inline\n",
    "%config InlineBackend.figure_format = 'retina'\n",
    "\n",
    "import tensorflow as tf\n",
    "import pickle\n",
    "import helper\n",
    "import random\n",
    "\n",
    "# Set batch size if not already set\n",
    "try:\n",
    "    if batch_size:\n",
    "        pass\n",
    "except NameError:\n",
    "    batch_size = 64\n",
    "\n",
    "save_model_path = './image_classification'\n",
    "n_samples = 4\n",
    "top_n_predictions = 3\n",
    "\n",
    "def test_model():\n",
    "    \"\"\"\n",
    "    Test the saved model against the test dataset\n",
    "    \"\"\"\n",
    "\n",
    "    test_features, test_labels = pickle.load(open('preprocess_training.p', mode='rb'))\n",
    "    loaded_graph = tf.Graph()\n",
    "\n",
    "    with tf.Session(graph=loaded_graph) as sess:\n",
    "        # Load model\n",
    "        loader = tf.train.import_meta_graph(save_model_path + '.meta')\n",
    "        loader.restore(sess, save_model_path)\n",
    "\n",
    "        # Get Tensors from loaded model\n",
    "        loaded_x = loaded_graph.get_tensor_by_name('x:0')\n",
    "        loaded_y = loaded_graph.get_tensor_by_name('y:0')\n",
    "        loaded_keep_prob = loaded_graph.get_tensor_by_name('keep_prob:0')\n",
    "        loaded_logits = loaded_graph.get_tensor_by_name('logits:0')\n",
    "        loaded_acc = loaded_graph.get_tensor_by_name('accuracy:0')\n",
    "        \n",
    "        # Get accuracy in batches for memory limitations\n",
    "        test_batch_acc_total = 0\n",
    "        test_batch_count = 0\n",
    "        \n",
    "        for train_feature_batch, train_label_batch in helper.batch_features_labels(test_features, test_labels, batch_size):\n",
    "            test_batch_acc_total += sess.run(\n",
    "                loaded_acc,\n",
    "                feed_dict={loaded_x: train_feature_batch, loaded_y: train_label_batch, loaded_keep_prob: 1.0})\n",
    "            test_batch_count += 1\n",
    "\n",
    "        print('Testing Accuracy: {}\\n'.format(test_batch_acc_total/test_batch_count))\n",
    "\n",
    "        # Print Random Samples\n",
    "        random_test_features, random_test_labels = tuple(zip(*random.sample(list(zip(test_features, test_labels)), n_samples)))\n",
    "        random_test_predictions = sess.run(\n",
    "            tf.nn.top_k(tf.nn.softmax(loaded_logits), top_n_predictions),\n",
    "            feed_dict={loaded_x: random_test_features, loaded_y: random_test_labels, loaded_keep_prob: 1.0})\n",
    "        helper.display_image_predictions(random_test_features, random_test_labels, random_test_predictions)\n",
    "\n",
    "\n",
    "test_model()"
   ]
  },
  {
   "cell_type": "markdown",
   "metadata": {
    "deletable": true,
    "editable": true
   },
   "source": [
    "## Why 50-70% Accuracy?\n",
    "You might be wondering why you can't get an accuracy any higher. First things first, 50% isn't bad for a simple CNN.  Pure guessing would get you 10% accuracy. However, you might notice people are getting scores [well above 70%](http://rodrigob.github.io/are_we_there_yet/build/classification_datasets_results.html#43494641522d3130).  That's because we haven't taught you all there is to know about neural networks. We still need to cover a few more techniques.\n",
    "## Submitting This Project\n",
    "When submitting this project, make sure to run all the cells before saving the notebook.  Save the notebook file as \"dlnd_image_classification.ipynb\" and save it as a HTML file under \"File\" -> \"Download as\".  Include the \"helper.py\" and \"problem_unittests.py\" files in your submission."
   ]
  },
  {
   "cell_type": "code",
   "execution_count": null,
   "metadata": {
    "collapsed": true,
    "deletable": true,
    "editable": true
   },
   "outputs": [],
   "source": []
  }
 ],
 "metadata": {
  "kernelspec": {
   "display_name": "Python 3",
   "language": "python",
   "name": "python3"
  },
  "language_info": {
   "codemirror_mode": {
    "name": "ipython",
    "version": 3
   },
   "file_extension": ".py",
   "mimetype": "text/x-python",
   "name": "python",
   "nbconvert_exporter": "python",
   "pygments_lexer": "ipython3",
   "version": "3.5.2"
  },
  "widgets": {
   "state": {},
   "version": "1.1.2"
  }
 },
 "nbformat": 4,
 "nbformat_minor": 0
}
